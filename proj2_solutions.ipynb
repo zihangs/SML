{
 "cells": [
  {
   "cell_type": "markdown",
   "metadata": {},
   "source": [
    "# COMP90051 Project 2"
   ]
  },
  {
   "cell_type": "code",
   "execution_count": 1,
   "metadata": {},
   "outputs": [],
   "source": [
    "# Do not edit. These are the only imports permitted.\n",
    "%matplotlib inline\n",
    "import numpy as np\n",
    "from numpy.linalg import inv\n",
    "import matplotlib.pyplot as plt\n",
    "from abc import ABC, abstractmethod"
   ]
  },
  {
   "cell_type": "markdown",
   "metadata": {},
   "source": [
    "## 1. Implement ε-Greedy and UCB"
   ]
  },
  {
   "cell_type": "code",
   "execution_count": 2,
   "metadata": {},
   "outputs": [],
   "source": [
    "class MAB(ABC):\n",
    "    \"\"\"\n",
    "    Abstract class that represents a multi-armed bandit (MAB)\n",
    "    \"\"\"\n",
    "    \n",
    "    @abstractmethod\n",
    "    def play(self, tround, context):\n",
    "        \"\"\"\n",
    "        Play a round\n",
    "        \n",
    "        Arguments\n",
    "        =========\n",
    "        tround : int\n",
    "            positive integer identifying the round\n",
    "        \n",
    "        context : 1D float array, shape (self.ndims * self.narms), optional\n",
    "            context given to the arms\n",
    "        \n",
    "        Returns\n",
    "        =======\n",
    "        arm : int\n",
    "            the positive integer arm id for this round\n",
    "        \"\"\"\n",
    "    \n",
    "    @abstractmethod\n",
    "    def update(self, arm, reward, context):\n",
    "        \"\"\"\n",
    "        Updates the internal state of the MAB after a play\n",
    "        \n",
    "        Arguments\n",
    "        =========\n",
    "        arm : int\n",
    "            a positive integer arm id in {1, ..., self.narms}\n",
    "        \n",
    "        reward : float\n",
    "            reward received from arm\n",
    "        \n",
    "        context : 1D float array, shape (self.ndims * self.narms), optional\n",
    "            context given to arms\n",
    "        \"\"\""
   ]
  },
  {
   "cell_type": "code",
   "execution_count": 3,
   "metadata": {},
   "outputs": [],
   "source": [
    "def argmax_rand(a):\n",
    "    return np.random.choice(np.flatnonzero(a == a.max()))"
   ]
  },
  {
   "cell_type": "code",
   "execution_count": 4,
   "metadata": {},
   "outputs": [],
   "source": [
    "def check_context(context, narms):\n",
    "    if context is not None:\n",
    "            assert isinstance(context, np.ndarray), \"'context' must be a numpy.ndarray or None\"\n",
    "            assert np.issubdtype(context.dtype, np.floating), \"'context' must be of type float\"\n",
    "            assert context.size % narms == 0, \"size of 'context' is inconsistent with 'narms'\""
   ]
  },
  {
   "cell_type": "code",
   "execution_count": 5,
   "metadata": {},
   "outputs": [],
   "source": [
    "class EpsGreedy(MAB):\n",
    "    \"\"\"\n",
    "    Epsilon-Greedy multi-armed bandit\n",
    "\n",
    "    Arguments\n",
    "    =========\n",
    "    narms : int\n",
    "        number of arms\n",
    "\n",
    "    epsilon : float\n",
    "        explore probability in interval [0.0, 1.0]\n",
    "\n",
    "    Q0 : float, optional\n",
    "        initial value for the arms\n",
    "    \"\"\"\n",
    "    \n",
    "    def __init__(self, narms, epsilon, Q0=np.inf):\n",
    "        # --- Input validity checks --- #\n",
    "        assert np.issubdtype(type(narms), np.integer) and narms > 0, \\\n",
    "            \"'narms' must be a positive integer\"\n",
    "        assert np.issubdtype(type(epsilon), np.floating) and epsilon >= 0 and epsilon <= 1, \\\n",
    "            \"'epsilon' must be a float in the interval [0.0, 1.0]\"\n",
    "        assert np.issubdtype(type(Q0), np.floating), \\\n",
    "            \"'Q0' must be a float\"\n",
    "        \n",
    "        self.narms = narms\n",
    "        self.epsilon = epsilon\n",
    "        self.Q0 = Q0\n",
    "        self.num_pulls = np.zeros(narms)\n",
    "        self.mean_rewards = np.full(narms, Q0)\n",
    "        \n",
    "    def play(self, tround, context=None):\n",
    "        # --- Input validity checks --- #\n",
    "        assert np.issubdtype(type(tround), np.integer) and tround > 0, \"'tround' must be a positive integer\"\n",
    "        check_context(context, self.narms)\n",
    "        \n",
    "        if np.random.binomial(1, self.epsilon):\n",
    "            # Explore\n",
    "            return np.random.randint(1, self.narms + 1)\n",
    "        else:\n",
    "            # Exploit\n",
    "            return argmax_rand(self.mean_rewards) + 1\n",
    "        \n",
    "    def update(self, arm, reward, context=None):\n",
    "        # --- Input validity checks --- #\n",
    "        assert np.issubdtype(type(arm), np.integer) and arm <= self.narms and arm >= 1, \\\n",
    "            \"'arm' must be an int in the range [1, {}]\".format(self.narms)\n",
    "        assert np.issubdtype(type(reward), np.floating), \"'reward' must be a float\"\n",
    "        check_context(context, self.narms)\n",
    "        \n",
    "        arm_0 = arm - 1\n",
    "        n = self.num_pulls[arm_0]\n",
    "        if n > 0:\n",
    "            self.mean_rewards[arm_0] = (self.mean_rewards[arm_0] * n + reward) / (n + 1)\n",
    "        else:\n",
    "            self.mean_rewards[arm_0] = reward\n",
    "        self.num_pulls[arm_0] += 1"
   ]
  },
  {
   "cell_type": "code",
   "execution_count": 6,
   "metadata": {},
   "outputs": [],
   "source": [
    "class UCB(MAB):\n",
    "    \"\"\"\n",
    "    Upper Confidence Bound (UCB) multi-armed bandit\n",
    "\n",
    "    Arguments\n",
    "    =========\n",
    "    narms : int\n",
    "        number of arms\n",
    "\n",
    "    rho : float\n",
    "        positive real explore-exploit parameter\n",
    "\n",
    "    Q0 : float, optional\n",
    "        initial value for the arms\n",
    "    \"\"\"\n",
    "    \n",
    "    def __init__(self, narms, rho, Q0=np.inf):\n",
    "        # --- Input validity checks --- #\n",
    "        assert np.issubdtype(type(narms), np.integer) and narms > 0, \\\n",
    "            \"'narms' must be a positive integer\"\n",
    "        assert np.issubdtype(type(rho), np.floating) and rho > 0, \\\n",
    "            \"'rho' must be a positive float\"\n",
    "        assert np.issubdtype(type(Q0), np.floating), \\\n",
    "            \"'Q0' must be a float\"\n",
    "        \n",
    "        self.narms = narms\n",
    "        self.rho = rho\n",
    "        self.Q0 = Q0\n",
    "        self.num_pulls = np.zeros(narms)\n",
    "        self.mean_rewards = np.full(narms, self.Q0)\n",
    "    \n",
    "    def play(self, tround, context=None):\n",
    "        # --- Input validity checks --- #\n",
    "        assert np.issubdtype(type(tround), np.integer) and tround > 0, \"'tround' must be a positive integer\"\n",
    "        check_context(context, self.narms)\n",
    "        \n",
    "        Q_prev = np.copy(self.mean_rewards)\n",
    "        if (tround > 1):\n",
    "            pulled_prev = self.num_pulls > 0\n",
    "            Q_prev[pulled_prev] += np.sqrt(self.rho * np.log(tround) / self.num_pulls[pulled_prev])\n",
    "        return argmax_rand(Q_prev) + 1\n",
    "        \n",
    "    def update(self, arm, reward, context=None):\n",
    "        # --- Input validity checks --- #\n",
    "        assert np.issubdtype(type(arm), np.integer) and arm <= self.narms and arm >= 1, \\\n",
    "            \"'arm' must be an int in the range [1, {}]\".format(self.narms)\n",
    "        assert np.issubdtype(type(reward), np.floating), \"'reward' must be a float\"\n",
    "        check_context(context, self.narms)\n",
    "        \n",
    "        arm_0 = arm - 1\n",
    "        n = self.num_pulls[arm_0]\n",
    "        if n > 0:\n",
    "            self.mean_rewards[arm_0] = (self.mean_rewards[arm_0] * n + reward) / (n + 1)\n",
    "        else:\n",
    "            self.mean_rewards[arm_0] = reward\n",
    "        self.num_pulls[arm_0] += 1"
   ]
  },
  {
   "cell_type": "markdown",
   "metadata": {},
   "source": [
    "## 2. Off-Policy Evaluation"
   ]
  },
  {
   "cell_type": "code",
   "execution_count": 7,
   "metadata": {},
   "outputs": [],
   "source": [
    "def offlineEvaluate(mab, arms, rewards, contexts, nrounds=None):\n",
    "    \"\"\"\n",
    "    Offline evaluation of a multi-armed bandit\n",
    "    \n",
    "    Arguments\n",
    "    =========\n",
    "    mab : instance of MAB\n",
    "    \n",
    "    arms : 1D int array, shape (nevents,) \n",
    "        integer arm id for each event\n",
    "    \n",
    "    rewards : 1D float array, shape (nevents,)\n",
    "        reward received for each event\n",
    "    \n",
    "    contexts : 2D float array, shape (nevents, mab.narms*nfeatures)\n",
    "        contexts presented to the arms (stacked horizontally) \n",
    "        for each event.\n",
    "        \n",
    "    nrounds : int, optional\n",
    "        number of matching events to evaluate `mab` on.\n",
    "    \n",
    "    Returns\n",
    "    =======\n",
    "    out : 1D float array\n",
    "        rewards for the matching events\n",
    "    \"\"\"\n",
    "    # --- Input validity checks --- #\n",
    "    # Check types\n",
    "    assert isinstance(mab, MAB), \"'mab' must be an instance of MAB\"\n",
    "    for arrayName in ['arms', 'rewards', 'contexts']:\n",
    "        assert isinstance(eval(arrayName), np.ndarray), \"'{}' must be a numpy.ndarray\".format(arrayName)\n",
    "    assert (np.issubdtype(type(nrounds), np.integer) and nrounds >= 0) or (nrounds is None), \\\n",
    "        \"'nrounds' must be a non-negative integer or None\"\n",
    "    # Check dtypes\n",
    "    assert np.issubdtype(arms.dtype, np.integer), \"'arms' must be of type int\"\n",
    "    assert np.issubdtype(rewards.dtype, np.floating), \"'rewards' must be of type float\"\n",
    "    assert np.issubdtype(contexts.dtype, np.floating), \"'contexts' must be of type float\"\n",
    "    # Check array dimensions\n",
    "    assert arms.ndim == 1, \"'arms' must be a 1D array\"\n",
    "    assert rewards.ndim == 1, \"'rewards' must be a 1D array\"\n",
    "    assert contexts.ndim == 2, \"'contexts' must be a 2D array\"\n",
    "    assert arms.shape[0] == rewards.shape[0] == contexts.shape[0], \\\n",
    "        \"first dimension of input arrays are inconsistent\"\n",
    "    assert contexts.shape[1] % mab.narms == 0, \"'contexts' has inconsistent second dimension\"\n",
    "    # Check range of arms\n",
    "    assert arms.max() <= mab.narms and arms.min() >= 1, \"'arms' contains ids that are out-of-range\"\n",
    "    \n",
    "    matched_ctr = 0\n",
    "    matched_rewards = list()\n",
    "    for i in range(arms.size):\n",
    "        if nrounds is not None and matched_ctr >= nrounds:\n",
    "            break\n",
    "        arm = mab.play(matched_ctr + 1, contexts[i])\n",
    "        if arm == arms[i]:\n",
    "            mab.update(arm, rewards[i], contexts[i])\n",
    "            matched_ctr += 1\n",
    "            matched_rewards.append(rewards[i])\n",
    "    return np.array(matched_rewards)"
   ]
  },
  {
   "cell_type": "code",
   "execution_count": 8,
   "metadata": {},
   "outputs": [],
   "source": [
    "# Load event log from a bandit run\n",
    "dataset = np.genfromtxt('dataset.txt', dtype=np.int)\n",
    "arms = dataset[:,0]\n",
    "rewards = dataset[:,1].astype(float)\n",
    "contexts = dataset[:,2::].astype(float)"
   ]
  },
  {
   "cell_type": "code",
   "execution_count": 9,
   "metadata": {},
   "outputs": [
    {
     "name": "stdout",
     "output_type": "stream",
     "text": [
      "EpsGreedy average reward 0.26625\n"
     ]
    }
   ],
   "source": [
    "mab = EpsGreedy(10, 0.05)\n",
    "results_EpsGreedy = offlineEvaluate(mab, arms, rewards, contexts, 800)\n",
    "print('EpsGreedy average reward', np.mean(results_EpsGreedy))"
   ]
  },
  {
   "cell_type": "code",
   "execution_count": 10,
   "metadata": {},
   "outputs": [
    {
     "name": "stdout",
     "output_type": "stream",
     "text": [
      "UCB average reward 0.17125\n"
     ]
    }
   ],
   "source": [
    "mab = UCB(10, 1.0, 0.5)\n",
    "results_UCB = offlineEvaluate(mab, arms, rewards, contexts, 800)\n",
    "print('UCB average reward', np.mean(results_UCB))"
   ]
  },
  {
   "cell_type": "markdown",
   "metadata": {},
   "source": [
    "## 3. Contextual Bandits"
   ]
  },
  {
   "cell_type": "code",
   "execution_count": 11,
   "metadata": {},
   "outputs": [],
   "source": [
    "from numpy.linalg import inv"
   ]
  },
  {
   "cell_type": "code",
   "execution_count": 12,
   "metadata": {},
   "outputs": [],
   "source": [
    "class LinUCB(MAB):\n",
    "    \"\"\"\n",
    "    Contextual multi-armed bandit (LinUCB)\n",
    "\n",
    "    Arguments\n",
    "    =========\n",
    "    narms : int\n",
    "        number of arms\n",
    "\n",
    "    ndims : int\n",
    "        number of dimensions for each arm's context\n",
    "\n",
    "    alpha : float\n",
    "        positive real explore-exploit parameter\n",
    "    \"\"\"\n",
    "    \n",
    "    def __init__(self, narms, ndims, alpha):\n",
    "        # --- Input validity checks --- #\n",
    "        assert np.issubdtype(type(narms), np.integer) and narms > 0, \"'narms' must be a positive integer\"\n",
    "        assert np.issubdtype(type(ndims), np.integer) and ndims > 0, \"'ndims' must be a positive integer\"\n",
    "        assert np.issubdtype(type(alpha), np.floating) and alpha > 0, \"'alpha' must be a positive float\"\n",
    "        \n",
    "        self.narms = narms\n",
    "        self.ndims = ndims\n",
    "        self.alpha = alpha\n",
    "        self.As = np.broadcast_to(np.eye(ndims), (narms, ndims, ndims)).copy()\n",
    "        self.bs = np.zeros((narms, ndims))\n",
    "        \n",
    "    def play(self, tround, context):\n",
    "        # --- Input validity checks --- #\n",
    "        assert np.issubdtype(type(tround), np.integer) and tround > 0, \"'tround' must be a positive integer\"\n",
    "        check_context(context, self.narms)\n",
    "        \n",
    "        context = np.reshape(context, newshape=(self.narms, -1))\n",
    "        p_t = np.empty(self.narms)\n",
    "        for i in range(self.narms):\n",
    "            A_inv = inv(self.As[i])\n",
    "            x = context[i]\n",
    "            theta = A_inv @ self.bs[i]\n",
    "            p_t[i] = theta.dot(x) + self.alpha * np.sqrt(x.dot(A_inv @ x))\n",
    "        return argmax_rand(p_t) + 1\n",
    "    \n",
    "    def update(self, arm, reward, context):\n",
    "        # --- Input validity checks --- #\n",
    "        assert np.issubdtype(type(arm), np.integer) and arm <= self.narms and arm >= 1, \\\n",
    "            \"'arm' must be an int in the range [1, {}]\".format(self.narms)\n",
    "        assert np.issubdtype(type(reward), np.floating), \"'reward' must be a float\"\n",
    "        check_context(context, self.narms)\n",
    "        \n",
    "        arm0 = arm - 1\n",
    "        x = np.reshape(context, newshape=(self.narms, -1))[arm0]\n",
    "        self.As[arm0] += np.outer(x, x)\n",
    "        self.bs[arm0] += reward * x"
   ]
  },
  {
   "cell_type": "code",
   "execution_count": 13,
   "metadata": {},
   "outputs": [
    {
     "name": "stdout",
     "output_type": "stream",
     "text": [
      "LinUCB average reward 0.53\n"
     ]
    }
   ],
   "source": [
    "mab = LinUCB(10, 10, 1.0)\n",
    "results_LinUCB = offlineEvaluate(mab, arms, rewards, contexts, 800)\n",
    "print('LinUCB average reward', np.mean(results_LinUCB))"
   ]
  },
  {
   "cell_type": "markdown",
   "metadata": {},
   "source": [
    "## 4. Evaluation\n",
    "### 4.A."
   ]
  },
  {
   "cell_type": "code",
   "execution_count": 14,
   "metadata": {},
   "outputs": [
    {
     "data": {
      "image/png": "[encoded data removed]",
      "text/plain": [
       "<Figure size 432x288 with 1 Axes>"
      ]
     },
     "metadata": {
      "needs_background": "light"
     },
     "output_type": "display_data"
    }
   ],
   "source": [
    "for mab in ['EpsGreedy', 'UCB', 'LinUCB']:\n",
    "    results = eval('results_' + mab)\n",
    "    tround = np.arange(1, results.size + 1)\n",
    "    cumsum = np.cumsum(results)/tround\n",
    "    plt.plot(tround, cumsum, label=mab)\n",
    "plt.legend()\n",
    "plt.xlabel('Round')\n",
    "plt.ylabel('Running average cumulative reward')\n",
    "plt.show()"
   ]
  },
  {
   "cell_type": "markdown",
   "metadata": {},
   "source": [
    "### 4.B."
   ]
  },
  {
   "cell_type": "markdown",
   "metadata": {},
   "source": [
    "Note: the spec for this part was purposely vague.\n",
    "\n",
    "Students are free to use any sensible evaluation measure (here we use the expected cumulative reward, estimated with a sample size of 10).\n",
    "\n",
    "The specifics for the grid search (e.g. resolution/range of alpha values) is also left to the student's discretion."
   ]
  },
  {
   "cell_type": "code",
   "execution_count": 15,
   "metadata": {},
   "outputs": [
    {
     "name": "stdout",
     "output_type": "stream",
     "text": [
      "Best alpha is 0.01\n"
     ]
    },
    {
     "data": {
      "image/png": "[encoded data removed]",
      "text/plain": [
       "<Figure size 432x288 with 1 Axes>"
      ]
     },
     "metadata": {
      "needs_background": "light"
     },
     "output_type": "display_data"
    }
   ],
   "source": [
    "import copy\n",
    "\n",
    "def exp_cum_reward(mab, arms, rewards, contexts, nrounds, nsamples):\n",
    "    \"\"\"\n",
    "    Estimates the expected cumulative reward for a multi-armed bandit using offline evaluation\n",
    "    \n",
    "    Arguments\n",
    "    =========\n",
    "    mab : instance of MAB\n",
    "    \n",
    "    arms : 1D int array, shape (nevents,) \n",
    "        integer arm id for each event\n",
    "    \n",
    "    rewards : 1D float array, shape (nevents,)\n",
    "        reward received for each event\n",
    "    \n",
    "    contexts : 2D float array, shape (nevents, mab.narms*nfeatures)\n",
    "        contexts presented to the arms (stacked horizontally) \n",
    "        for each event.\n",
    "        \n",
    "    nrounds : int\n",
    "        number of matching events to evaluate `mab` on.\n",
    "    \n",
    "    nsamples : int\n",
    "        number of samples to use for estimate\n",
    "    \"\"\"\n",
    "    cum_rewards = np.empty(nsamples)\n",
    "    for i in range(nsamples):\n",
    "        mab_copy = copy.deepcopy(mab) # Use a copy, since mab can't be reset\n",
    "        cum_rewards[i] = offlineEvaluate(mab_copy, arms, rewards, contexts, nrounds).sum()\n",
    "    return {'mean': cum_rewards.mean(), 'stderr': np.std(cum_rewards)/np.sqrt(nsamples)}\n",
    "\n",
    "alpha_range = np.logspace(-3, 3, num=7)\n",
    "nrounds = 800\n",
    "nsamples = 10\n",
    "narms = 10\n",
    "ndim = 10\n",
    "scores = np.zeros_like(alpha_range)\n",
    "errors = np.zeros_like(alpha_range)\n",
    "for i, alpha in enumerate(alpha_range):\n",
    "    mab = LinUCB(narms, ndim, alpha)\n",
    "    results = exp_cum_reward(mab, arms, rewards, contexts, nrounds, nsamples)\n",
    "    scores[i] = results['mean']\n",
    "    errors[i] = results['stderr']\n",
    "\n",
    "print('Best alpha is {}'.format(alpha_range[np.argmax(scores)]))\n",
    "\n",
    "plt.errorbar(alpha_range, scores, yerr=errors)\n",
    "plt.xscale('log')\n",
    "plt.xlabel('alpha')\n",
    "plt.ylabel('Exp. cumulative reward')\n",
    "plt.show()"
   ]
  },
  {
   "cell_type": "markdown",
   "metadata": {},
   "source": [
    "## 5. KernelUCB"
   ]
  },
  {
   "cell_type": "code",
   "execution_count": 10,
   "metadata": {},
   "outputs": [],
   "source": [
    "# Do not edit. Special import for this section.\n",
    "from sklearn.metrics.pairwise import rbf_kernel"
   ]
  },
  {
   "cell_type": "code",
   "execution_count": 48,
   "metadata": {},
   "outputs": [],
   "source": [
    "class KernelUCB(MAB):\n",
    "    \"\"\"\n",
    "    Kernelised contextual multi-armed bandit (Kernelised LinUCB)\n",
    "    \n",
    "    Arguments\n",
    "    =========\n",
    "    narms : int\n",
    "        number of arms\n",
    "\n",
    "    ndims : int\n",
    "        number of dimensions for each arm's context\n",
    "\n",
    "    gamma : float\n",
    "        positive real explore-exploit parameter\n",
    "    \n",
    "    eta : float\n",
    "        positive real explore-exploit parameter\n",
    "    \n",
    "    kern : callable\n",
    "        a kernel function from sklearn.metrics.pairwise\n",
    "    \"\"\"\n",
    "    def __init__(self, narms, ndims, gamma, eta, kern):\n",
    "        # --- Input validity checks --- #\n",
    "        assert np.issubdtype(type(narms), np.integer) and narms > 0, \"'narms' must be a positive integer\"\n",
    "        assert np.issubdtype(type(ndims), np.integer) and ndims > 0, \"'ndims' must be a positive integer\"\n",
    "        assert np.issubdtype(type(gamma), np.floating) and gamma > 0, \"'gamma' must be a positive float\"\n",
    "        assert np.issubdtype(type(eta), np.floating) and eta > 0, \"'eta' must be a positive float\"\n",
    "        assert callable(kern), \"'kern' must be a callable\"\n",
    "        \n",
    "        self.narms = narms\n",
    "        self.ndims = ndims\n",
    "        self.gamma = gamma\n",
    "        self.eta = eta\n",
    "        self.kern = kern\n",
    "        self.Kinv = np.empty(0, dtype=float)\n",
    "        self._rewards = np.zeros(0, dtype=float)\n",
    "        self._contexts = np.zeros((0, ndims), dtype=float)\n",
    "        \n",
    "    def play(self, tround, context):\n",
    "        # --- Input validity checks --- #\n",
    "        assert np.issubdtype(type(tround), np.integer) and tround > 0, \"'tround' must be a positive integer\"\n",
    "        check_context(context, self.narms)\n",
    "        \n",
    "        if tround > 1:\n",
    "            context = np.reshape(context, newshape=(self.narms, -1))\n",
    "            #kxx = np.array([mab.kern(c,c)[0,0] for c in context[:,np.newaxis]])\n",
    "            kxx = self.kern(context).diagonal()\n",
    "            kx = self.kern(context, self._contexts)\n",
    "            predictions = np.dot(kx, self.Kinv @ self._rewards)\n",
    "            variances = kxx - np.sum(kx.T * (self.Kinv @ kx.T), axis=0)\n",
    "            u = predictions + self.eta/(np.sqrt(self.gamma)) * np.sqrt(variances)\n",
    "        else:\n",
    "            u = np.zeros(self.narms)\n",
    "            u[0] = 1\n",
    "        \n",
    "        return argmax_rand(u) + 1\n",
    "    \n",
    "    def update(self, arm, reward, context):\n",
    "        # --- Input validity checks --- #\n",
    "        assert np.issubdtype(type(arm), np.integer) and arm <= self.narms and arm >= 1, \\\n",
    "            \"'arm' must be an int in the range [1, {}]\".format(self.narms)\n",
    "        assert np.issubdtype(type(reward), np.floating), \"'reward' must be a float\"\n",
    "        check_context(context, self.narms)\n",
    "        \n",
    "        arm0 = arm - 1\n",
    "        context = np.reshape(context, newshape=(self.narms, -1))\n",
    "        \n",
    "        # Record history of reward/contexts\n",
    "        self._rewards = np.append(self._rewards, reward)\n",
    "        self._contexts = np.append(self._contexts, context[arm0, np.newaxis], axis=0)\n",
    "        \n",
    "        # Update Kinv\n",
    "        kx = self.kern(context, self._contexts)\n",
    "        if kx.shape[1] == 1:\n",
    "            self.Kinv = 1/(kx[arm0, np.newaxis] + self.gamma)\n",
    "        else:\n",
    "            b = kx[arm0,0:-1]\n",
    "            b_Kinv = b @ self.Kinv\n",
    "            Kinv_b = self.Kinv @ b\n",
    "            \n",
    "            K22 = 1/(kx[arm0,-1] + self.gamma - np.dot(b, Kinv_b))\n",
    "            K11 = self.Kinv + K22 * np.outer(Kinv_b, b_Kinv)\n",
    "            K12 = -K22 * Kinv_b[:,np.newaxis]\n",
    "            K21 = -K22 * b_Kinv[np.newaxis]\n",
    "            self.Kinv = np.block([[K11, K12], [K21, K22]])"
   ]
  },
  {
   "cell_type": "code",
   "execution_count": 49,
   "metadata": {},
   "outputs": [
    {
     "name": "stdout",
     "output_type": "stream",
     "text": [
      "KernelUCB average reward 0.71875\n"
     ]
    }
   ],
   "source": [
    "mab = KernelUCB(10, 10, 1.0, 0.1, rbf_kernel)\n",
    "results_KernelUCB = offlineEvaluate(mab, arms, rewards, contexts, 800)\n",
    "print('KernelUCB average reward', np.mean(results_KernelUCB))"
   ]
  },
  {
   "cell_type": "code",
   "execution_count": 50,
   "metadata": {},
   "outputs": [
    {
     "data": {
      "image/png": "[encoded data removed]",
      "text/plain": [
       "<Figure size 432x288 with 1 Axes>"
      ]
     },
     "metadata": {
      "needs_background": "light"
     },
     "output_type": "display_data"
    }
   ],
   "source": [
    "tround = np.arange(1, results_KernelUCB.size + 1)\n",
    "plt.plot(tround, np.cumsum(results_KernelUCB)/tround)\n",
    "plt.xlabel('Round')\n",
    "plt.ylabel('Running average cumulative reward')\n",
    "plt.show()"
   ]
  }
 ],
 "metadata": {
  "kernelspec": {
   "display_name": "Python 3",
   "language": "python",
   "name": "python3"
  },
  "language_info": {
   "codemirror_mode": {
    "name": "ipython",
    "version": 3
   },
   "file_extension": ".py",
   "mimetype": "text/x-python",
   "name": "python",
   "nbconvert_exporter": "python",
   "pygments_lexer": "ipython3",
   "version": "3.6.6"
  }
 },
 "nbformat": 4,
 "nbformat_minor": 2
}
